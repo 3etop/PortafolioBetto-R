{
 "cells": [
  {
   "cell_type": "markdown",
   "id": "b4741b97",
   "metadata": {},
   "source": [
    "# proyecto 01\n",
    "\n",
    "## Mostrando informacion al usuario\n",
    "\n",
    "comando print() "
   ]
  },
  {
   "cell_type": "code",
   "execution_count": 1,
   "id": "3b01ccc0",
   "metadata": {},
   "outputs": [
    {
     "name": "stdout",
     "output_type": "stream",
     "text": [
      "Semana de phyton en la practica\n",
      "Betto, el mejor =) !\n"
     ]
    }
   ],
   "source": [
    "print(\"Semana de phyton en la practica\")\n",
    "print(\"Betto, el mejor =) !\")"
   ]
  },
  {
   "cell_type": "markdown",
   "id": "77177de8",
   "metadata": {},
   "source": [
    "## Recibir dato del usuario"
   ]
  },
  {
   "cell_type": "code",
   "execution_count": 2,
   "id": "6f9c894c",
   "metadata": {},
   "outputs": [
    {
     "data": {
      "text/plain": [
       "'goku'"
      ]
     },
     "execution_count": 2,
     "metadata": {},
     "output_type": "execute_result"
    }
   ],
   "source": [
    "input(\"Digita tu nombre: \")\n",
    "input(\"cual es el mejor lenguaje de programacion del mundo: \")"
   ]
  },
  {
   "cell_type": "markdown",
   "id": "70e793dc",
   "metadata": {},
   "source": [
    "## almacenando datos en variables"
   ]
  },
  {
   "cell_type": "code",
   "execution_count": 3,
   "id": "ac5022c7",
   "metadata": {},
   "outputs": [],
   "source": [
    "proyecto = \"mi primer proyecto con python\"\n",
    "numero = 10"
   ]
  },
  {
   "cell_type": "code",
   "execution_count": null,
   "id": "df38679d",
   "metadata": {},
   "outputs": [
    {
     "data": {
      "text/plain": [
       "10"
      ]
     },
     "execution_count": 5,
     "metadata": {},
     "output_type": "execute_result"
    }
   ],
   "source": [
    "numero"
   ]
  },
  {
   "cell_type": "markdown",
   "id": "ac998f6a",
   "metadata": {},
   "source": [
    "## mezclando todos los conceptos aprendidos\n"
   ]
  },
  {
   "cell_type": "code",
   "execution_count": 9,
   "id": "d03275ac",
   "metadata": {},
   "outputs": [],
   "source": [
    "proyecto = input(\"Digita la descripcion de tu proyecto: \")\n",
    "horas_estimadas = input(\"Cuantas horas estimas que te tomara el proyecto: \")\n",
    "valor_hora = input(\"Cual es el valor de tu hora de trabajo: \")\n",
    "tiempo_estimado = input(\"Digita el plazo estimado: \")"
   ]
  },
  {
   "cell_type": "code",
   "execution_count": 10,
   "id": "3f4032f0",
   "metadata": {},
   "outputs": [
    {
     "name": "stdout",
     "output_type": "stream",
     "text": [
      "mi primer proyecto con pyton\n",
      "120\n",
      "90\n",
      "2 meses\n"
     ]
    }
   ],
   "source": [
    "print(proyecto)\n",
    "print(horas_estimadas)\n",
    "print(valor_hora)\n",
    "print(tiempo_estimado)"
   ]
  },
  {
   "cell_type": "markdown",
   "id": "cbf2786f",
   "metadata": {},
   "source": [
    "## calculos con python\n"
   ]
  },
  {
   "cell_type": "code",
   "execution_count": 12,
   "id": "21ab5a81",
   "metadata": {},
   "outputs": [
    {
     "name": "stdout",
     "output_type": "stream",
     "text": [
      "20\n",
      "1991\n",
      "100\n",
      "5.0\n",
      "1\n"
     ]
    }
   ],
   "source": [
    "print (10 + 10) \n",
    "print (2345 - 354)\n",
    "print (10 * 10) \n",
    "print (10 / 2)\n",
    "print (10 % 3)"
   ]
  },
  {
   "cell_type": "markdown",
   "id": "619ebe75",
   "metadata": {},
   "source": [
    "## cakculando el valot total del proyecto\n"
   ]
  },
  {
   "cell_type": "code",
   "execution_count": null,
   "id": "4fc535fd",
   "metadata": {},
   "outputs": [
    {
     "data": {
      "text/plain": [
       "10800"
      ]
     },
     "execution_count": 16,
     "metadata": {},
     "output_type": "execute_result"
    }
   ],
   "source": [
    "valor_total = int(horas_estimadas) * int(valor_hora)"
   ]
  },
  {
   "cell_type": "markdown",
   "id": "1f73b0a5",
   "metadata": {},
   "source": [
    "## Generando archivo pdf del presupuesto\n"
   ]
  },
  {
   "cell_type": "code",
   "execution_count": 27,
   "id": "f3592a7b",
   "metadata": {},
   "outputs": [
    {
     "data": {
      "text/plain": [
       "10800"
      ]
     },
     "execution_count": 27,
     "metadata": {},
     "output_type": "execute_result"
    }
   ],
   "source": [
    "valor_total = int(horas_estimadas) * int(valor_hora)\n",
    "valor_total"
   ]
  },
  {
   "cell_type": "code",
   "execution_count": 19,
   "id": "ece7e739",
   "metadata": {},
   "outputs": [
    {
     "name": "stdout",
     "output_type": "stream",
     "text": [
      "Collecting fpdf\n",
      "  Downloading fpdf-1.7.2.tar.gz (39 kB)\n",
      "  Installing build dependencies: started\n",
      "  Installing build dependencies: finished with status 'done'\n",
      "  Getting requirements to build wheel: started\n",
      "  Getting requirements to build wheel: finished with status 'done'\n",
      "  Preparing metadata (pyproject.toml): started\n",
      "  Preparing metadata (pyproject.toml): finished with status 'done'\n",
      "Building wheels for collected packages: fpdf\n",
      "  Building wheel for fpdf (pyproject.toml): started\n",
      "  Building wheel for fpdf (pyproject.toml): finished with status 'done'\n",
      "  Created wheel for fpdf: filename=fpdf-1.7.2-py2.py3-none-any.whl size=40771 sha256=2dcfbb1e69374751050004ae67fab01e2ae77b677a57e215f1ec4fdc15166489\n",
      "  Stored in directory: c:\\users\\3etop\\appdata\\local\\pip\\cache\\wheels\\65\\4f\\66\\bbda9866da446a72e206d6484cd97381cbc7859a7068541c36\n",
      "Successfully built fpdf\n",
      "Installing collected packages: fpdf\n",
      "Successfully installed fpdf-1.7.2\n"
     ]
    },
    {
     "name": "stderr",
     "output_type": "stream",
     "text": [
      "\n",
      "[notice] A new release of pip is available: 23.1.2 -> 25.1.1\n",
      "[notice] To update, run: python.exe -m pip install --upgrade pip\n"
     ]
    }
   ],
   "source": [
    "! pip install fpdf"
   ]
  },
  {
   "cell_type": "code",
   "execution_count": 20,
   "id": "bffc7107",
   "metadata": {},
   "outputs": [],
   "source": [
    "from fpdf import FPDF"
   ]
  },
  {
   "cell_type": "code",
   "execution_count": 29,
   "id": "67d08498",
   "metadata": {},
   "outputs": [
    {
     "name": "stdout",
     "output_type": "stream",
     "text": [
      "Presupuesto generado con exito!!!\n"
     ]
    }
   ],
   "source": [
    "pdf = FPDF()\n",
    "\n",
    "pdf.add_page()\n",
    "pdf.set_font(\"Arial\", size=12)\n",
    "\n",
    "pdf.image(\"Template.png\", x=0, y=0,)\n",
    "\n",
    "pdf.text(115, 145, \"proyecto\")\n",
    "pdf.text(115, 160, \"horas_estimadas\")\n",
    "pdf.text(115, 175, \"valor_hora\")\n",
    "pdf.text(115, 190, \"tiempo_estimado\")\n",
    "pdf.text(115, 205, str(valor_total))\n",
    "\n",
    "pdf.output(\"presupuesto.pdf\")\n",
    "print(\"Presupuesto generado con exito!!!\")"
   ]
  }
 ],
 "metadata": {
  "kernelspec": {
   "display_name": "Python 3",
   "language": "python",
   "name": "python3"
  },
  "language_info": {
   "codemirror_mode": {
    "name": "ipython",
    "version": 3
   },
   "file_extension": ".py",
   "mimetype": "text/x-python",
   "name": "python",
   "nbconvert_exporter": "python",
   "pygments_lexer": "ipython3",
   "version": "3.11.4"
  }
 },
 "nbformat": 4,
 "nbformat_minor": 5
}
